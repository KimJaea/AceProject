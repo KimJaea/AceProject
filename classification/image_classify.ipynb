{
  "nbformat": 4,
  "nbformat_minor": 0,
  "metadata": {
    "colab": {
      "name": "image_classify.ipynb",
      "provenance": [],
      "collapsed_sections": []
    },
    "kernelspec": {
      "name": "python3",
      "display_name": "Python 3"
    },
    "language_info": {
      "name": "python"
    },
    "accelerator": "GPU"
  },
  "cells": [
    {
      "cell_type": "code",
      "metadata": {
        "id": "lmUBMFvSJm5d"
      },
      "source": [
        "import keras\n",
        "from keras.preprocessing.image import ImageDataGenerator\n",
        "\n",
        "from keras.utils import np_utils\n",
        "from keras.models import Sequential\n",
        "from keras.preprocessing.image import array_to_img, img_to_array, load_img\n",
        "from keras.layers import *\n",
        "from keras.callbacks import ModelCheckpoint, EarlyStopping\n",
        "\n",
        "import os\n",
        "import pandas as pd\n",
        "import numpy as np\n",
        "\n",
        "from sklearn.metrics import accuracy_score"
      ],
      "execution_count": null,
      "outputs": []
    },
    {
      "cell_type": "code",
      "metadata": {
        "id": "8-Rv0XEkJwZI"
      },
      "source": [
        "path = '/content/drive/My Drive/Garbage classification'\n",
        "trash = {'glass':0, 'metal':1, 'paper':2, 'plastic':3, 'plastic_bag':4}"
      ],
      "execution_count": null,
      "outputs": []
    },
    {
      "cell_type": "code",
      "metadata": {
        "colab": {
          "base_uri": "https://localhost:8080/"
        },
        "id": "Lh4RnvHDKY83",
        "outputId": "3be03b17-89a2-4d94-949a-7b28f3a9dc32"
      },
      "source": [
        "trainDataGen = ImageDataGenerator(rescale=1./255, rotation_range = 30, width_shift_range=0.2, height_shift_range=0.2,\n",
        "                                 shear_range=0.2, zoom_range=0.2, horizontal_flip=False, vertical_flip=False, fill_mode='nearest')\n",
        "\n",
        "trainGenSet = trainDataGen.flow_from_directory(\n",
        "    path + '/train',\n",
        "    batch_size=32,\n",
        "    target_size=(224, 224),\n",
        "    class_mode='categorical')"
      ],
      "execution_count": null,
      "outputs": [
        {
          "output_type": "stream",
          "name": "stdout",
          "text": [
            "Found 1700 images belonging to 5 classes.\n"
          ]
        }
      ]
    },
    {
      "cell_type": "code",
      "metadata": {
        "colab": {
          "base_uri": "https://localhost:8080/"
        },
        "id": "FlAJGijlUqUX",
        "outputId": "ab10ffab-ee33-49eb-d3df-94f2de3e78fc"
      },
      "source": [
        "print(trainGenSet.class_indices)\n",
        "print(testGenSet.class_indices)\n",
        "\n",
        "#for f in testGenSet.filepaths:\n",
        "  #print(f)"
      ],
      "execution_count": null,
      "outputs": [
        {
          "output_type": "stream",
          "name": "stdout",
          "text": [
            "{'glass': 0, 'metal': 1, 'paper': 2, 'plastic': 3, 'plastic_bag': 4}\n",
            "{'glass': 0, 'metal': 1, 'paper': 2, 'plastic': 3, 'plastic_bag': 4}\n"
          ]
        }
      ]
    },
    {
      "cell_type": "code",
      "metadata": {
        "colab": {
          "base_uri": "https://localhost:8080/"
        },
        "id": "tqIiFcIhKbw3",
        "outputId": "11f7b0ce-224d-45c7-c2ad-8604bf0a47b6"
      },
      "source": [
        "testDataGen = ImageDataGenerator(rescale=1./255)\n",
        "testGenSet = testDataGen.flow_from_directory(\n",
        "    path + '/test',\n",
        "    target_size=(224, 224),\n",
        "    batch_size=64,\n",
        "    class_mode='categorical'\n",
        ")"
      ],
      "execution_count": null,
      "outputs": [
        {
          "output_type": "stream",
          "name": "stdout",
          "text": [
            "Found 300 images belonging to 5 classes.\n"
          ]
        }
      ]
    },
    {
      "cell_type": "code",
      "metadata": {
        "id": "Rh8fmOClU7tB",
        "colab": {
          "base_uri": "https://localhost:8080/"
        },
        "outputId": "20e2e693-6e03-4508-ced7-56faaa7406ca"
      },
      "source": [
        "VGG16_MODEL = tf.keras.applications.VGG16(input_shape = (224, 224, 3),include_top = False, weights = 'imagenet')\n",
        "VGG16_MODEL.trainable=True\n",
        "global_average_layer = tf.keras.layers.GlobalAveragePooling2D()\n",
        "#flatten_layer = tf.keras.layers.Flatten()\n",
        "prediction_layer = tf.keras.layers.Dense(5, activation='softmax')\n",
        "\n",
        "model = tf.keras.Sequential([VGG16_MODEL, global_average_layer, prediction_layer])\n",
        "#model = VGG16_MODEL\n",
        "model.compile(optimizer = 'adam', loss = 'categorical_crossentropy', metrics=['accuracy'])"
      ],
      "execution_count": null,
      "outputs": [
        {
          "output_type": "stream",
          "name": "stdout",
          "text": [
            "Downloading data from https://storage.googleapis.com/tensorflow/keras-applications/vgg16/vgg16_weights_tf_dim_ordering_tf_kernels_notop.h5\n",
            "58892288/58889256 [==============================] - 1s 0us/step\n",
            "58900480/58889256 [==============================] - 1s 0us/step\n"
          ]
        }
      ]
    },
    {
      "cell_type": "code",
      "metadata": {
        "id": "bgM1hFCDtkV_"
      },
      "source": [
        "from tensorflow.keras.models import Model\n",
        "\n",
        "VGG16_MODEL = tf.keras.applications.VGG16(input_shape = (224, 224, 3),include_top = False, weights = 'imagenet')\n",
        "VGG16_MODEL.trainable=True\n",
        "last = VGG16_MODEL.output\n",
        "\n",
        "global_average_layer = tf.keras.layers.GlobalAveragePooling2D()(last)\n",
        "flatten_layer = tf.keras.layers.Flatten()(global_average_layer)\n",
        "prediction_layer = tf.keras.layers.Dense(5, activation='softmax')(flatten_layer)\n",
        "\n",
        "model = Model(VGG16_MODEL.input, prediction_layer)\n",
        "model.compile(optimizer = 'adam', loss = 'categorical_crossentropy', metrics=['accuracy'])"
      ],
      "execution_count": null,
      "outputs": []
    },
    {
      "cell_type": "code",
      "metadata": {
        "colab": {
          "base_uri": "https://localhost:8080/"
        },
        "id": "OWQpHeLXLA1I",
        "outputId": "162de983-eca7-4c34-e536-739ae9933bc5"
      },
      "source": [
        "model = Sequential()\n",
        "model.add(Conv2D(64, kernel_size=(3,3), strides = 1, padding='same', input_shape=(150, 150, 3), activation='relu'))\n",
        "model.add(MaxPooling2D(pool_size=(2,2), padding='same'))\n",
        "\n",
        "model.add(Conv2D(128, kernel_size=(3,3), strides = 1, padding='same', activation='relu'))\n",
        "model.add(Conv2D(128, kernel_size=(3,3), strides = 1, padding='same', activation='relu'))\n",
        "model.add(MaxPooling2D(pool_size=(2,2), padding='same'))\n",
        "model.add(Dropout(0.25))\n",
        "\n",
        "model.add(Conv2D(256, kernel_size=(3,3), strides = 1, padding='same', activation='relu'))\n",
        "model.add(Conv2D(256, kernel_size=(3,3), strides = 1, padding='same', activation='relu'))\n",
        "model.add(Conv2D(256, kernel_size=(3,3), strides = 1, padding='same', activation='relu'))\n",
        "model.add(MaxPooling2D(pool_size=(2,2), padding='same'))\n",
        "model.add(Dropout(0.25))\n",
        "\n",
        "model.add(Conv2D(512, kernel_size=(3,3), strides = 1, padding='same', activation='relu'))\n",
        "model.add(Conv2D(512, kernel_size=(3,3), strides = 1, padding='same', activation='relu'))\n",
        "model.add(Conv2D(512, kernel_size=(3,3), strides = 1, padding='same', activation='relu'))\n",
        "model.add(MaxPooling2D(pool_size=(2,2), padding='same'))\n",
        "\n",
        "model.add(Conv2D(512, kernel_size=(3,3), strides = 1, padding='same', activation='relu'))\n",
        "model.add(Conv2D(512, kernel_size=(3,3), strides = 1, padding='same', activation='relu'))\n",
        "model.add(Conv2D(512, kernel_size=(3,3), strides = 1, padding='same', activation='relu'))\n",
        "model.add(MaxPooling2D(pool_size=(2,2), padding='same'))\n",
        "\n",
        "model.add(Flatten())\n",
        "model.add(Dropout(0.5))\n",
        "model.add(Dense(512, activation='relu'))\n",
        "model.add(Dropout(0.25))\n",
        "model.add(Dense(5, activation='softmax'))\n",
        "\n",
        "model.summary()"
      ],
      "execution_count": null,
      "outputs": [
        {
          "output_type": "stream",
          "name": "stdout",
          "text": [
            "Model: \"sequential\"\n",
            "_________________________________________________________________\n",
            "Layer (type)                 Output Shape              Param #   \n",
            "=================================================================\n",
            "conv2d (Conv2D)              (None, 120, 120, 64)      1792      \n",
            "_________________________________________________________________\n",
            "conv2d_1 (Conv2D)            (None, 120, 120, 64)      36928     \n",
            "_________________________________________________________________\n",
            "max_pooling2d (MaxPooling2D) (None, 60, 60, 64)        0         \n",
            "_________________________________________________________________\n",
            "dropout (Dropout)            (None, 60, 60, 64)        0         \n",
            "_________________________________________________________________\n",
            "conv2d_2 (Conv2D)            (None, 60, 60, 128)       73856     \n",
            "_________________________________________________________________\n",
            "conv2d_3 (Conv2D)            (None, 60, 60, 128)       147584    \n",
            "_________________________________________________________________\n",
            "max_pooling2d_1 (MaxPooling2 (None, 30, 30, 128)       0         \n",
            "_________________________________________________________________\n",
            "dropout_1 (Dropout)          (None, 30, 30, 128)       0         \n",
            "_________________________________________________________________\n",
            "conv2d_4 (Conv2D)            (None, 30, 30, 256)       295168    \n",
            "_________________________________________________________________\n",
            "conv2d_5 (Conv2D)            (None, 30, 30, 256)       590080    \n",
            "_________________________________________________________________\n",
            "conv2d_6 (Conv2D)            (None, 30, 30, 256)       590080    \n",
            "_________________________________________________________________\n",
            "max_pooling2d_2 (MaxPooling2 (None, 15, 15, 256)       0         \n",
            "_________________________________________________________________\n",
            "dropout_2 (Dropout)          (None, 15, 15, 256)       0         \n",
            "_________________________________________________________________\n",
            "conv2d_7 (Conv2D)            (None, 15, 15, 512)       1180160   \n",
            "_________________________________________________________________\n",
            "conv2d_8 (Conv2D)            (None, 15, 15, 512)       2359808   \n",
            "_________________________________________________________________\n",
            "conv2d_9 (Conv2D)            (None, 15, 15, 512)       2359808   \n",
            "_________________________________________________________________\n",
            "max_pooling2d_3 (MaxPooling2 (None, 8, 8, 512)         0         \n",
            "_________________________________________________________________\n",
            "conv2d_10 (Conv2D)           (None, 8, 8, 512)         2359808   \n",
            "_________________________________________________________________\n",
            "conv2d_11 (Conv2D)           (None, 8, 8, 512)         2359808   \n",
            "_________________________________________________________________\n",
            "conv2d_12 (Conv2D)           (None, 8, 8, 512)         2359808   \n",
            "_________________________________________________________________\n",
            "max_pooling2d_4 (MaxPooling2 (None, 4, 4, 512)         0         \n",
            "_________________________________________________________________\n",
            "flatten (Flatten)            (None, 8192)              0         \n",
            "_________________________________________________________________\n",
            "dropout_3 (Dropout)          (None, 8192)              0         \n",
            "_________________________________________________________________\n",
            "dense (Dense)                (None, 512)               4194816   \n",
            "_________________________________________________________________\n",
            "dropout_4 (Dropout)          (None, 512)               0         \n",
            "_________________________________________________________________\n",
            "dense_1 (Dense)              (None, 5)                 2565      \n",
            "=================================================================\n",
            "Total params: 18,912,069\n",
            "Trainable params: 18,912,069\n",
            "Non-trainable params: 0\n",
            "_________________________________________________________________\n"
          ]
        }
      ]
    },
    {
      "cell_type": "code",
      "metadata": {
        "id": "3DJbp3XSZuXR"
      },
      "source": [
        "model = tf.keras.applications.VGG16(weights='imagenet', include_top=False,  input_shape=(224, 224, 3))\n",
        "\n",
        "for layer in model.layers[:-10]:\n",
        "    layer.trainable = False\n",
        "\n",
        "for layer in model.layers:\n",
        "    print(layer, layer.trainable)\n",
        "\n",
        "top_model = Sequential()\n",
        "top_model.add(Flatten(input_shape=model.output_shape[1:]))\n",
        "top_model.add(Dense(256, activation='relu'))\n",
        "top_model.add(Dense(5, activation='softmax'))\n",
        "\n",
        "top_model.load_weights(top_model_weights_path) #이미 학습된 Flatten()을 불러와야함! 반드시\n",
        "\n",
        "new_model = Sequential() # VGG16(fine-tuning) + Faltten 모델(이미 학습됨)을 합쳐서 모델생성\n",
        "for l in model.layers:\n",
        "    new_model.add(l)\n",
        "\n",
        "for l in top_model.layers:\n",
        "    new_model.add(l)"
      ],
      "execution_count": null,
      "outputs": []
    },
    {
      "cell_type": "code",
      "metadata": {
        "id": "apWtug32aq95"
      },
      "source": [
        "#VGG16모델을 학습하지 않고 flatten()같은 밑부분 모델만 학습시킨후, 이 가중치를 저장\n",
        "#모델을 학습할 때는 저장한 가중치를 가져와서 사용."
      ],
      "execution_count": null,
      "outputs": []
    },
    {
      "cell_type": "code",
      "metadata": {
        "id": "LnVxPhdOp96D"
      },
      "source": [
        "from keras.applications.resnet_v2 import ResNet50V2, ResNet101V2, ResNet152V2, preprocess_input, decode_predictions\n",
        "#from keras.applications.resnet50 import preprocess_input, decode_predictions\n",
        "#include_top을 false로 하면 convolution layer만 가져오고 fully connected layer를 쌓을 수 있음\n",
        "resnet = ResNet152V2(include_top=False, weights='imagenet', input_shape=(150, 150, 3))\n",
        "x = resnet.output\n",
        "x = MaxPooling2D(pool_size=(2, 2))(x)\n",
        "x = Flatten(x)\n",
        "x = Dropout(0.5)(x)\n",
        "x = Dense(512, activation='relu', input_dim = (150, 150, 3))(x)\n",
        "x = BatchNormalization()(x)\n",
        "x = Dense(256, activation='relu')(x)\n",
        "x = BatchNormalization()(x)\n",
        "x = Dense(5, activation='softmax')(x)\n",
        "\n",
        "model = Model(inputs=resnet.input, outputs=x)"
      ],
      "execution_count": null,
      "outputs": []
    },
    {
      "cell_type": "code",
      "metadata": {
        "id": "IHj0j5P4xwp2"
      },
      "source": [
        "from tensorflow.keras.applications.inception_v3 import InceptionV3\n",
        "from tensorflow.keras.preprocessing import image\n",
        "from tensorflow.keras.models import Model\n",
        "\n",
        "base_model = InceptionV3(weights='imagenet', include_top=False)\n",
        "x = base_model.output\n",
        "x = GlobalAveragePooling2D()(x)\n",
        "x = Dense(128, activation='relu')(x) #1024\n",
        "predictions = Dense(5, activation='softmax')(x)\n",
        "model = Model(inputs=base_model.input, outputs=predictions)\n",
        "\n",
        "for layer in model.layers[:249]:\n",
        "   layer.trainable = False\n",
        "for layer in model.layers[249:]:\n",
        "   layer.trainable = True\n",
        "\n",
        "model.compile(optimizer = 'adam', loss = 'categorical_crossentropy', metrics=['accuracy']) #rmsprop"
      ],
      "execution_count": null,
      "outputs": []
    },
    {
      "cell_type": "code",
      "metadata": {
        "id": "US5aC40kLUAb"
      },
      "source": [
        "history = model.fit(trainGenSet, epochs=110, validation_steps=10, validation_data=testGenSet)"
      ],
      "execution_count": null,
      "outputs": []
    },
    {
      "cell_type": "code",
      "metadata": {
        "id": "Crb_gBwEWUer"
      },
      "source": [
        "import matplotlib.pyplot as plt\n",
        "\n",
        "plt.plot(history.history['accuracy'])\n",
        "plt.plot(history.history['val_accuracy'])\n",
        "plt.title('model accuracy')\n",
        "plt.ylabel('accuracy')\n",
        "plt.xlabel('epoch')\n",
        "plt.legend(['train','test'], loc = 'upper left')\n",
        "plt.show()"
      ],
      "execution_count": null,
      "outputs": []
    },
    {
      "cell_type": "code",
      "metadata": {
        "id": "UYINlgxxrNC6",
        "colab": {
          "base_uri": "https://localhost:8080/"
        },
        "outputId": "9bf4efdd-4e19-459b-ffd3-f303b11ab3fc"
      },
      "source": [
        "#model evaluate\n",
        "scores = model.evaluate(testGenSet, steps=1)\n",
        "print(\"%.2f%%\" %(scores[1]*100))\n",
        "#model predict\n",
        "output = model.predict(testGenSet, steps=1)\n",
        "np.set_printoptions(formatter={'float': lambda x: \"{0:0.3f}\".format(x)})\n",
        "print(output)"
      ],
      "execution_count": null,
      "outputs": [
        {
          "output_type": "stream",
          "name": "stdout",
          "text": [
            "1/1 [==============================] - 1s 632ms/step - loss: 0.0014 - accuracy: 1.0000\n",
            "100.00%\n",
            "[[0.000 0.000 0.000 0.000 1.000]\n",
            " [0.000 0.000 0.000 0.000 1.000]\n",
            " [0.000 0.000 1.000 0.000 0.000]\n",
            " [1.000 0.000 0.000 0.000 0.000]\n",
            " [0.000 1.000 0.000 0.000 0.000]]\n"
          ]
        }
      ]
    },
    {
      "cell_type": "code",
      "metadata": {
        "id": "KyZqeHTQKwHO"
      },
      "source": [
        "from keras.preprocessing import image\n",
        "\n",
        "example_dir = ['/test/glass/glass416.jpg', '/test/glass/glass432.jpg', '/test/metal/metal330.jpg', '/test/metal/metal385.jpg', '/test/paper/paper455.jpg', '/test/paper/paper493.jpg', '/test/plastic/plastic262.jpg', '/test/plastic/plastic437.jpg', '/test/plastic_bag/plastic_bag1316.jpg', '/test/plastic_bag/plastic_bag21.jpg']\n",
        "\n",
        "for i in example_dir:\n",
        "  print(i)\n",
        "  img = image.load_img(path + i, target_size = (244, 244))\n",
        "  img = image.img_to_array(img)\n",
        "  img = np.expand_dims(img, axis = 0)\n",
        "  output = model.predict(img)\n",
        "  print(output)"
      ],
      "execution_count": null,
      "outputs": []
    },
    {
      "cell_type": "code",
      "metadata": {
        "id": "DcUp3LEhAJge"
      },
      "source": [
        "model.save('recycle_classification_inception_2.h5')"
      ],
      "execution_count": null,
      "outputs": []
    },
    {
      "cell_type": "code",
      "metadata": {
        "id": "bOpbQ0cePl2z"
      },
      "source": [
        "converter = tf.lite.TFLiteConverter.from_keras_model(model)\n",
        "tflite_model = converter.convert()\n",
        "# Save the model.\n",
        "with open('model_unquant.tflite', 'wb') as f:\n",
        "  f.write(tflite_model)"
      ],
      "execution_count": null,
      "outputs": []
    }
  ]
}